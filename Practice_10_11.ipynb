{
  "nbformat": 4,
  "nbformat_minor": 0,
  "metadata": {
    "colab": {
      "name": "Practice_10-11.ipynb",
      "provenance": [],
      "collapsed_sections": [
        "ceZnlkaoqkV1"
      ]
    },
    "kernelspec": {
      "name": "python3",
      "display_name": "Python 3.8.5 32-bit",
      "metadata": {
        "interpreter": {
          "hash": "6fa8c4a0213b3e8e46e64ca221d4ef2f7254b1e53b83d6209b624a99d7aa7db4"
        }
      }
    }
  },
  "cells": [
    {
      "cell_type": "markdown",
      "metadata": {
        "id": "FMqboNwO4rVs"
      },
      "source": [
        "# **Курс \"Програмування на мові Python\"**\n",
        "\n",
        "##### Викладачі:\n",
        "##### Борисенко Павло Борисович\n",
        "##### Щьоголєв Максим Олегович\n"
      ]
    },
    {
      "cell_type": "markdown",
      "metadata": {
        "id": "A2T6MigL5Z06"
      },
      "source": [
        "## **Практичні зайняття №10-11**\n",
        "\n",
        "### Тема: \"Ітератори та генератори. Декоратори\""
      ]
    },
    {
      "cell_type": "markdown",
      "metadata": {
        "id": "ceZnlkaoqkV1"
      },
      "source": [
        "### **1. Ітератори та генератори**"
      ]
    },
    {
      "cell_type": "markdown",
      "metadata": {
        "id": "JfHbW2Ng8Ytb"
      },
      "source": [
        "#### Ітератори"
      ]
    },
    {
      "cell_type": "markdown",
      "metadata": {
        "id": "hvdPzqtgqndq"
      },
      "source": [
        "**Ітератор** - це об'єкт, що містить набір значень, які можна підрахувати.\n",
        "\n",
        "Списки, кортежі, словники та множини є *об'єктами, що ітеруються*. Вони є контейнерами, які можна перетворити в ітератори за допомогою функції iter().\n",
        "\n",
        "Ітератор відрізняється від об'єкта, що ітерується, тим, що елементи ітератора не можна вивести одночасно за допомогою інструкції print(). Їх можна вивести або у циклі, або за допомогою функції next():"
      ]
    },
    {
      "cell_type": "code",
      "metadata": {
        "id": "HN7ODnDk3lVy"
      },
      "source": [
        "mytuple = (\"apple\", \"banana\", \"cherry\")\n",
        "myit = iter(mytuple)\n",
        "\n",
        "print(myit)\n",
        "for i in myit:\n",
        "    print(i)"
      ],
      "execution_count": null,
      "outputs": []
    },
    {
      "cell_type": "code",
      "metadata": {
        "id": "LsBLelha2gLH"
      },
      "source": [
        "mytuple = (\"apple\", \"banana\", \"cherry\")\n",
        "myit = iter(mytuple)\n",
        "\n",
        "print(next(myit))\n",
        "print(next(myit))\n",
        "print(next(myit))"
      ],
      "execution_count": null,
      "outputs": []
    },
    {
      "cell_type": "markdown",
      "metadata": {
        "id": "YCV8CXu92vsZ"
      },
      "source": [
        "Ще однією особливістю ітератора є те, що елементи ітератора можна перебрати лише один раз. Якщо спробувати зробити це вдруге, програма нічого не обробить."
      ]
    },
    {
      "cell_type": "code",
      "metadata": {
        "id": "6cVvcb877j0F"
      },
      "source": [
        "mytuple = (\"apple\", \"banana\", \"cherry\")\n",
        "myit = iter(mytuple)\n",
        "\n",
        "print(\"First loop\")\n",
        "for i in myit:\n",
        "    print(i)\n",
        "\n",
        "print()\n",
        "print(\"Second loop\")\n",
        "for i in myit:\n",
        "    print(i)"
      ],
      "execution_count": null,
      "outputs": []
    },
    {
      "cell_type": "markdown",
      "metadata": {
        "id": "Zcp8CEDv8JO4"
      },
      "source": [
        "Якщо вийти за межі заданого діапазону значень, програма поверне помилку StopIteration."
      ]
    },
    {
      "cell_type": "code",
      "metadata": {
        "id": "blbgbMrx3V1T"
      },
      "source": [
        "mytuple = (\"apple\", \"banana\", \"cherry\")\n",
        "myit = iter(mytuple)\n",
        "\n",
        "print(next(myit))\n",
        "print(next(myit))\n",
        "print(next(myit))\n",
        "print(next(myit))"
      ],
      "execution_count": null,
      "outputs": []
    },
    {
      "cell_type": "markdown",
      "metadata": {
        "id": "LQZA0LLM35Kk"
      },
      "source": [
        "Результом роботи функцій вищих порядків map() та filter() також є ітератори:"
      ]
    },
    {
      "cell_type": "code",
      "metadata": {
        "id": "kbbtqG7c3Ysb"
      },
      "source": [
        "data = [1, 3, 5, 2, 7, 4, 10]\n",
        "d1 = map(lambda i: i + 1, data)\n",
        "d2 = filter(lambda i: i % 2 == 0, data)\n",
        "print(d1)\n",
        "print(d2)\n",
        "\n",
        "for i in d1:\n",
        "    print(i, end = ' ')\n",
        "\n",
        "print()\n",
        "for i in d2:\n",
        "    print(i, end = ' ')"
      ],
      "execution_count": null,
      "outputs": []
    },
    {
      "cell_type": "markdown",
      "metadata": {
        "id": "UcOyCVkd8b-J"
      },
      "source": [
        "#### Генератори"
      ]
    },
    {
      "cell_type": "markdown",
      "metadata": {
        "id": "EpNPi0VemQQH"
      },
      "source": [
        "Генератори бувають *двох* типів: генератори-вирази та генератори-функції.\n",
        "\n",
        "**Генератори-вирази** призначені для створення ітераторів у циклі.\n",
        "\n",
        "Вони дуже подібні до генераторів списків. Але якщо генератори списків записуються у квадратних дужках, то генератори-вирази - у круглих. Наприклад:"
      ]
    },
    {
      "cell_type": "code",
      "metadata": {
        "id": "Ci_zcH1fnou5"
      },
      "source": [
        "a = [i**2 for i in range(0,6)] #List generator\n",
        "b = (i**2 for i in range(0,6)) #Generator expression\n",
        "\n",
        "print(a)\n",
        "print(b)\n",
        "for i in b:\n",
        "    print(i, end = ' ')"
      ],
      "execution_count": 2,
      "outputs": [
        {
          "output_type": "stream",
          "name": "stdout",
          "text": [
            "[0, 1, 4, 9, 16, 25]\n0 1 4 9 16 25\n"
          ]
        }
      ]
    },
    {
      "cell_type": "markdown",
      "metadata": {
        "id": "PmOgL5jIoyIX"
      },
      "source": [
        "Генератор b, на відміну від списку a, не зберігає всіх значень одночасно. Він зберігає лише поточне значення. Це дозволяє генераторам обробляти більші масиви даних. Наприклад, якщо потрібно створити список з великою кількістю елементів, програмі може просто не вистачити пам'яті:"
      ]
    },
    {
      "cell_type": "code",
      "metadata": {
        "id": "jbYEnClKqMq0"
      },
      "source": [
        "a = list(range(1000000000))"
      ],
      "execution_count": null,
      "outputs": []
    },
    {
      "cell_type": "markdown",
      "metadata": {
        "id": "VqgIxPNgrUPd"
      },
      "source": [
        "За допомогою генератора-виразу це можна дуже просто та швидко зробити:"
      ]
    },
    {
      "cell_type": "code",
      "metadata": {
        "id": "94pphZj_scN1"
      },
      "source": [
        "b = (i for i in range(6))\n",
        "\n",
        "print(next(b))\n",
        "print(next(b))\n",
        "print(next(b))\n",
        "print(next(b))\n",
        "print(next(b))\n",
        "print(next(b))"
      ],
      "execution_count": 7,
      "outputs": [
        {
          "output_type": "stream",
          "name": "stdout",
          "text": [
            "0\n1\n2\n3\n4\n5\n"
          ]
        }
      ]
    },
    {
      "cell_type": "markdown",
      "metadata": {
        "id": "F1PIiCDq8do3"
      },
      "source": [
        "**Генератори-функції** - це спеціальні функції, які можна використовувати для генерування послідовності значень, записаних в ітератор.\n",
        "\n",
        "Єдине, що відрізняє функцію-генератор від звичайної функції є використання у функції-генераторі ключового слова yield.\n",
        "\n",
        "yield може використовуватись лише всередині функції або методу. Після виконання команди yield програма зупиняється, а сама команда повертає поточне циклічне значення ітератора.\n",
        "\n",
        "Генератори мають кілька переваг у порівнянні зі звичайними функціями. По-перше, генератори дозволяють економити пам'ять, оскільки, на відміну від звичайних функцій, на кожній ітерації вони зберігають лише поточне значення. По-друге, їхній запис дещо коротший.\n",
        "\n",
        "Найпростіший приклад функції-генератора:"
      ]
    },
    {
      "cell_type": "code",
      "metadata": {
        "id": "W9RShFuV6uqt"
      },
      "source": [
        "def gen_numbers():\n",
        "    yield 1\n",
        "    yield 2\n",
        "    yield 3\n",
        "\n",
        "for i in gen_numbers():\n",
        "    print(i)"
      ],
      "execution_count": null,
      "outputs": []
    },
    {
      "cell_type": "markdown",
      "metadata": {
        "id": "-KaRO77V_b03"
      },
      "source": [
        "Розглянемо більш детально, що відбувається всередині генератора. Генератор припиняє свою роботу кожен раз, коли зустрічає ключове слово yield. Наступна ітерація починається з місця попередньої зупинки. Ця особливість продемонстрована у прикладі:"
      ]
    },
    {
      "cell_type": "code",
      "metadata": {
        "id": "o_kwhPxj_ArH"
      },
      "source": [
        "def gen_numbers2():\n",
        "    print('Start')\n",
        "    yield 1\n",
        "    print('Continue')\n",
        "    yield 2\n",
        "    print('Final')\n",
        "    yield 3\n",
        "    print('End')\n",
        "    \n",
        "for i in gen_numbers2():\n",
        "    print(i)\n",
        "    print(\"End of the iteration\")\n",
        "    print()"
      ],
      "execution_count": null,
      "outputs": []
    },
    {
      "cell_type": "markdown",
      "metadata": {
        "id": "fCZ7O_1OB-D-"
      },
      "source": [
        "Значення ітераторів, що повертаються генераторами, також можна виводити за допомогою функції next():"
      ]
    },
    {
      "cell_type": "code",
      "metadata": {
        "id": "bfXRuaJvA6U7"
      },
      "source": [
        "def gen_numbers():\n",
        "    yield 1\n",
        "    yield 2\n",
        "    yield 3\n",
        "\n",
        "gen = gen_numbers()\n",
        "\n",
        "print(gen)\n",
        "print(next(gen))\n",
        "print(next(gen))\n",
        "print(next(gen))"
      ],
      "execution_count": null,
      "outputs": []
    },
    {
      "cell_type": "markdown",
      "metadata": {
        "id": "ULXDc2YZDoeP"
      },
      "source": [
        "Можна створити генератор парних чисел від нуля до певного граничного значення:"
      ]
    },
    {
      "cell_type": "code",
      "metadata": {
        "colab": {
          "base_uri": "https://localhost:8080/"
        },
        "id": "InoHEXLmCZ1K",
        "outputId": "2828710c-4c87-4a17-f9a4-42775a87a6ee"
      },
      "source": [
        "def evens_up_to(limit):\n",
        "    value = 0\n",
        "    while value <= limit:\n",
        "        yield value\n",
        "        value += 2\n",
        "\n",
        "for i in evens_up_to(6):\n",
        "    print(i, end=', ')"
      ],
      "execution_count": null,
      "outputs": [
        {
          "output_type": "stream",
          "text": [
            "0, 2, 4, 6, "
          ],
          "name": "stdout"
        }
      ]
    },
    {
      "cell_type": "markdown",
      "metadata": {
        "id": "nj0oT41SQhAa"
      },
      "source": [
        "Функції-генератори можуть викликатись у вкладених циклах. Наприклад:"
      ]
    },
    {
      "cell_type": "code",
      "metadata": {
        "colab": {
          "base_uri": "https://localhost:8080/"
        },
        "id": "f3lmA0vkPXmN",
        "outputId": "01530567-d8a8-4516-d941-d90a7b7b4b55"
      },
      "source": [
        "for i in evens_up_to(4):\n",
        "    print('i:', i)\n",
        "    for j in evens_up_to(6):\n",
        "        print('j:', j, end=', ')\n",
        "print('')"
      ],
      "execution_count": null,
      "outputs": [
        {
          "output_type": "stream",
          "text": [
            "i: 0\n",
            "j: 0, j: 2, j: 4, j: 6, i: 2\n",
            "j: 0, j: 2, j: 4, j: 6, i: 4\n",
            "j: 0, j: 2, j: 4, j: 6, \n"
          ],
          "name": "stdout"
        }
      ]
    },
    {
      "cell_type": "markdown",
      "metadata": {
        "id": "UthB97xH3kG1"
      },
      "source": [
        "Як бачимо, циклічна змінна *i* жорстко прив'язана до значень, що продукуються функцією evens_up_to() у зовнішньому циклі, а змінна *j* - до значень, що продукуються цією ж функцією у внутрішньому циклі.\n",
        "\n",
        "Оскільки генератори на кожній ітерації зберігають лише поточне значення, то за допомогою генератора можна створити навіть нескінченну послідовність. Наприклад:"
      ]
    },
    {
      "cell_type": "code",
      "metadata": {
        "id": "LBQZ_oR347p0"
      },
      "source": [
        "def infinite_sequence():\n",
        "    num = 0\n",
        "    while True:\n",
        "        yield num\n",
        "        num += 1\n",
        "\n",
        "gen = infinite_sequence()\n",
        "\n",
        "print(next(gen))\n",
        "print(next(gen))\n",
        "print(next(gen))\n",
        "print(next(gen))"
      ],
      "execution_count": null,
      "outputs": []
    },
    {
      "cell_type": "markdown",
      "metadata": {
        "id": "HifCTU5tyBs1"
      },
      "source": [
        "### **2. Декоратори**"
      ]
    },
    {
      "cell_type": "markdown",
      "metadata": {
        "id": "BZ3SAjP1y4rZ"
      },
      "source": [
        "Декоратори використовуються у ситуаціях, коли до функції потрібно \"додати додаткову поведінку\" (\"add additional behaviour\"). У мові Python декоратори - це функції, що приймають на вхід інші функції (або інші об'єкти) та повертають нові функції, які мають вже \"декоровану\" поведінку.\n",
        "\n",
        "**Декоратор** - це функція, яка дозволяє загорнути (to wrap) іншу функцію, щоб розширити її функціональність, не змінюючи вихідного коду, та повертає нову функцію.\n",
        "\n",
        "Щоб визначити декоратор, необхідно визначити функцію, яка прийматиме на вхід іншу функцію, як параметр, та повертатиме нову функцію. Наприклад:"
      ]
    },
    {
      "cell_type": "code",
      "metadata": {
        "id": "Zz6Be8Vxxo62"
      },
      "source": [
        "def logger(func):\n",
        "    def inner():\n",
        "        print('calling ', func.__name__)\n",
        "        func()\n",
        "        print('called ', func.__name__)\n",
        "    return inner"
      ],
      "execution_count": 2,
      "outputs": []
    },
    {
      "cell_type": "markdown",
      "metadata": {
        "id": "ITtL3GLVDV1a"
      },
      "source": [
        "У цьому випадку декоратор logger() загортає функцію func() у функцію inner(). Функція inner() буде розширювати можливості функції func(), роздруковуючи додатково два рядки. Декоратор повертає функцію inner(), як результат.\n",
        "\n",
        "Кожна функція має атрибут `__name__`, що повертає назву функції. Він використовується всередині функції inner(), щоб вивести назву функції, яка фактично буде виконуватись.\n",
        "\n",
        "Розглянемо результат роботи декоратора. Для цього визначимо функцію target():"
      ]
    },
    {
      "cell_type": "code",
      "metadata": {
        "id": "JeacZcmyxTQr"
      },
      "source": [
        "def target():\n",
        "    print('In target function')"
      ],
      "execution_count": 9,
      "outputs": []
    },
    {
      "cell_type": "markdown",
      "metadata": {
        "id": "vxSVSoza3i3L"
      },
      "source": [
        "Тепер застосуємо декоратор logger() до функції target() та присвоїмо результат роботи декоратора змінній з такою ж назвою - target."
      ]
    },
    {
      "cell_type": "code",
      "metadata": {
        "id": "SbrhzqOP3hHp"
      },
      "source": [
        "target = logger(target)\n",
        "target()"
      ],
      "execution_count": null,
      "outputs": []
    },
    {
      "cell_type": "markdown",
      "metadata": {
        "id": "oYMMjGHl4KzZ"
      },
      "source": [
        "Під час виконання цього коду фактично виконується функція inner(), яку повертає декоратор. Функція inner() роздруковує перше повідомлення та викликає функцію, яка прийшла на вхід декоратора logger(). Після виконання цієї функції роздруковується друге повідомлення. Декоратор logger() повертає функцію inner(). Під час виклику декоратора відбувається підміна функції target(). Замість оригінальної її версії тепер фактично викликатиметься функція inner().\n",
        "\n",
        "Однак у мові Python є можливість спростити синтаксис для виклику декоратора. Щоб навісити декоратор на функцію, достатньо написати його назву після символу '@' перед заголовком функції."
      ]
    },
    {
      "cell_type": "code",
      "metadata": {
        "id": "rC0Mhp9i4CMS"
      },
      "source": [
        "@logger\n",
        "def target():\n",
        "    print('In target function')\n",
        "\n",
        "target()"
      ],
      "execution_count": null,
      "outputs": []
    },
    {
      "cell_type": "markdown",
      "metadata": {
        "id": "q1EPnXgS-Gek"
      },
      "source": [
        "Декоратори також можуть застосовуватись до функцій, які приймають на вхід певні параметри. Але в такому випадку функція inner() має приймати на вхід стільки ж параметрів, скільки й функції, до яких декоратор застосовується. Наприклад:"
      ]
    },
    {
      "cell_type": "code",
      "metadata": {
        "id": "huL2DeWW96pz"
      },
      "source": [
        "def logger(func):\n",
        "    def inner(x, y):\n",
        "        print('calling', func.__name__, 'with', x, 'and', y)\n",
        "        func(x, y)\n",
        "        print('returned from', func.__name__)\n",
        "    return inner\n",
        "\n",
        "@logger\n",
        "def my_func(x, y):\n",
        "    print(x, y)\n",
        "\n",
        "my_func(4, 5)"
      ],
      "execution_count": null,
      "outputs": []
    },
    {
      "cell_type": "markdown",
      "metadata": {
        "id": "TSOSBkwc_6d0"
      },
      "source": [
        "Але для того, щоб зробити декоратор більш універсальним, тобто щоб його можна було застосовувати до функцій з різною кількістю параметрів, його можна оформити так:"
      ]
    },
    {
      "cell_type": "code",
      "metadata": {
        "id": "RD_bvqSA-rc9"
      },
      "source": [
        "def logger(func):\n",
        "    def inner(*args, **kwargs):\n",
        "        print('*args parameters:', args)\n",
        "        print('**kwargs parameters:', kwargs)\n",
        "        res = func(*args, **kwargs)\n",
        "        print(res)\n",
        "        print()\n",
        "    return inner"
      ],
      "execution_count": 33,
      "outputs": []
    },
    {
      "cell_type": "markdown",
      "metadata": {
        "id": "ciMn4LpkAndm"
      },
      "source": [
        "Тепер створимо дві функції з різною кількістю параметрів та застосуємо до них декоратор logger()."
      ]
    },
    {
      "cell_type": "code",
      "metadata": {
        "id": "bGSrV4S0Amsw"
      },
      "source": [
        "@logger\n",
        "def func_1(x, y, z):\n",
        "    return x + y + z\n",
        "\n",
        "@logger\n",
        "def func_2(x, y):\n",
        "    return x * y\n",
        "\n",
        "func_1(2, 3, z = 1)\n",
        "func_2(3, 4)"
      ],
      "execution_count": null,
      "outputs": []
    },
    {
      "cell_type": "markdown",
      "metadata": {
        "id": "mbl85wXBFyk4"
      },
      "source": [
        "Бачимо, що позиційні аргументи передались у змінну args, а іменовані - у змінну kwargs. Бажано використовувати саме такий універсальний запис для декоратора навіть в тому випадку, якщо фукції, які подаються на вхід, аргументів не мають.\n",
        "\n",
        "Декоратори можуть бути **складеними** (stacked decorators). Тобто до функції може бути застосовано більше одного декоратора. Наприклад:"
      ]
    },
    {
      "cell_type": "code",
      "metadata": {
        "id": "7PjUEqqABf1L"
      },
      "source": [
        "# Define the decorator functions\n",
        "def make_bold(fn):\n",
        "    def makebold_wrapped():\n",
        "        return \"<b>\" + fn() + \"</b>\"\n",
        "    return makebold_wrapped\n",
        "\n",
        "def make_italic(fn):\n",
        "    def makeitalic_wrapped():\n",
        "        return \"<i>\" + fn() + \"</i>\"\n",
        "    return makeitalic_wrapped\n",
        "\n",
        "# Apply decorators to function hello\n",
        "@make_bold\n",
        "@make_italic\n",
        "def hello():\n",
        "    return 'hello world'\n",
        "\n",
        "# Call function hello\n",
        "print(hello())"
      ],
      "execution_count": null,
      "outputs": []
    },
    {
      "cell_type": "markdown",
      "metadata": {
        "id": "PqX3bSQ9K_7n"
      },
      "source": [
        "Декоратори застосовуються до функції у послідовності, починаючи з останнього, тобто починаючи від того, що розташований найближче до заголовку функції. У попередньому прикладі спочатку виконується декоратор make_italic(), потім make_bold().\n",
        "\n",
        "Декоратори також можуть приймати на вхід параметри та повертати функцію, що використовуватиме ці параметри. Наприклад:"
      ]
    },
    {
      "cell_type": "code",
      "metadata": {
        "id": "xD2sMlCPIxWI"
      },
      "source": [
        "def register(active=True):\n",
        "    def wrap(func):\n",
        "        def wrapper(*args, **kwargs):\n",
        "            print('Calling ', func.__name__, ' decorator param', active)\n",
        "            if active:\n",
        "                func(*args, **kwargs)\n",
        "                print('Called ', func.__name__)\n",
        "            else:\n",
        "                print('Skipped ', func.__name__)\n",
        "        return wrapper\n",
        "    return wrap\n",
        "\n",
        "@register()\n",
        "def func1(x, y):\n",
        "    print('x + y =', x + y)\n",
        "    print('func1')\n",
        "\n",
        "@register(active=False)\n",
        "def func2():\n",
        "    print('func2')\n",
        "\n",
        "func1(1, 2)\n",
        "print('-' * 10)\n",
        "func2()"
      ],
      "execution_count": null,
      "outputs": []
    },
    {
      "cell_type": "markdown",
      "metadata": {
        "id": "0rzLzt4tT1Zw"
      },
      "source": [
        "Першою відмінністю декораторів з параметрами від звичайних декораторів є додаткова функція (у попередньому прикладі - register()), яка огортає функцію wrap(), що приймає на вхід функцію-аргумент, та функцію wrapper(), яка приймає на вхід аргументи функції-аргумента.\n",
        "\n",
        "Другою відмінністю є необхідність використовувати круглі дужки під час виклику декоратора навіть в тому випадку, якщо аргументи не передаються.\n",
        "\n",
        "На відміну від звичайних функцій, функції-декоратори запускаються відразу після визначення. Наприклад:"
      ]
    },
    {
      "cell_type": "code",
      "metadata": {
        "id": "ggf63l5vOsIU"
      },
      "source": [
        "def logger(func):\n",
        "    print('In Logger')\n",
        "    def inner():\n",
        "        print('In inner calling ', func.__name__)\n",
        "        func()\n",
        "        print('In inner called ', func.__name__)\n",
        "    print('Finishing Logger')\n",
        "    return inner\n",
        "\n",
        "@logger\n",
        "def print_it():\n",
        "    print('Print It')\n",
        "\n",
        "print('Start')\n",
        "print_it()\n",
        "print('Done')"
      ],
      "execution_count": null,
      "outputs": []
    },
    {
      "cell_type": "markdown",
      "metadata": {
        "id": "b1tQVIrQW5KY"
      },
      "source": [
        "З попереднього прикладу видно, що рядки \"In Logger\" та \"Finishing Logger\" виводяться ще до того, як функція print_it() була запущена.\n",
        "\n",
        "У мові Python існує дуже багато **вбудованих декораторів**. Розглянемо найпростіший.\n",
        "\n",
        "За замовчуванням під час виклику декоратора назва та рядок документації оригінальної функції втрачаються. Якщо функція inner() має рядок документації, то під час виклику декорованої функції буде виведений саме цей рядок. Наприклад:"
      ]
    },
    {
      "cell_type": "code",
      "metadata": {
        "id": "A2TeqFXVW2tJ"
      },
      "source": [
        "def logger(func):\n",
        "    def inner():\n",
        "        \"\"\"inner() function docstring\"\"\"\n",
        "        print('calling ', func.__name__)\n",
        "        func()\n",
        "        print('called ', func.__name__)\n",
        "    return inner\n",
        "\n",
        "@logger\n",
        "def get_text(name):\n",
        "    \"\"\"get_text() function docstring\"\"\"\n",
        "    return \"Hello \"+ name\n",
        "\n",
        "print('name:', get_text.__name__)\n",
        "print('doc: ', get_text.__doc__)"
      ],
      "execution_count": null,
      "outputs": []
    },
    {
      "cell_type": "markdown",
      "metadata": {
        "id": "5-_aDWeNZ3O-"
      },
      "source": [
        "Щоб отримати рядок документації декорованої функції, можна скористатись декоратором wraps з модуля functools. Його потрібно ввести перед заголовком функції inner() та передати йому як параметр функцію func."
      ]
    },
    {
      "cell_type": "code",
      "metadata": {
        "id": "o79FgA5cZ0WB"
      },
      "source": [
        "from functools import wraps\n",
        "\n",
        "def logger(func):\n",
        "    @wraps(func)\n",
        "    def inner():\n",
        "        \"\"\"inner() function docstring\"\"\"\n",
        "        print('calling ', func.__name__)\n",
        "        func()\n",
        "        print('called ', func.__name__)\n",
        "    return inner\n",
        "\n",
        "@logger\n",
        "def get_text(name):\n",
        "    \"\"\"get_text() function docstring\"\"\"\n",
        "    return \"Hello \"+name\n",
        "\n",
        "print('name:', get_text.__name__)\n",
        "print('doc: ', get_text.__doc__)"
      ],
      "execution_count": null,
      "outputs": []
    }
  ]
}