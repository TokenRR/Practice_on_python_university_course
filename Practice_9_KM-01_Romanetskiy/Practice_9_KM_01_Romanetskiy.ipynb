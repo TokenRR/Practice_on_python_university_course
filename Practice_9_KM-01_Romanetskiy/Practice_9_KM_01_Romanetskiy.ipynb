{
  "nbformat": 4,
  "nbformat_minor": 0,
  "metadata": {
    "colab": {
      "name": "Practice_7_KM-01_.ipynb",
      "provenance": [],
      "collapsed_sections": []
    },
    "kernelspec": {
      "name": "python3",
      "display_name": "Python 3.8.5 32-bit",
      "metadata": {
        "interpreter": {
          "hash": "6fa8c4a0213b3e8e46e64ca221d4ef2f7254b1e53b83d6209b624a99d7aa7db4"
        }
      }
    }
  },
  "cells": [
    {
      "cell_type": "markdown",
      "metadata": {
        "id": "FMqboNwO4rVs"
      },
      "source": [
        "# **Курс \"Програмування на мові Python\"**\n",
        "\n",
        "##### Викладачі:\n",
        "##### Борисенко Павло Борисович\n",
        "##### Щьоголєв Максим Олегович\n"
      ]
    },
    {
      "cell_type": "markdown",
      "metadata": {
        "id": "A2T6MigL5Z06"
      },
      "source": [
        "## **Практичне зайняття №9**\n",
        "\n",
        "### Тема: \"Лямбда-функції. Функції вищих порядків\""
      ]
    },
    {
      "cell_type": "markdown",
      "metadata": {
        "id": "cfCdgK2zXm7e"
      },
      "source": [
        "### **Завдання 1 (1 бал)**\n",
        "\n",
        "Продавець роздрібного товару влаштовує розпродаж. Для всіх товарів знижка однакова - 60%. Щоб вивісити нові цінники, продавець хоче скласти таблицю, в якій для кожного товару буде підрахована його нова вартість та сума знижки.\n",
        "\n",
        "Написати програму, яка буде генерувати таку таблицю. Вартість одиниць товарів до розпродажу подано у списку products_list. \n",
        "\n",
        "1. Для підрахунку невідомих значень повинні використовуватись вбудовані функції вищих порядків.\n",
        "\n",
        "2. Вартість з урахуванням знижки та суми знижок для кожного товару повинні зберігатись у двох окремих списках. Порядок товарів у нових списках повинен бути такий самий, як і в списку products_list.\n",
        "\n",
        "3. Кожне підраховане числове значення має бути округлене до сотих.\n",
        "\n",
        "4. Дані повинні виводитись у вигляді:\n",
        "\n",
        "**Discount table:**\n",
        "\n",
        "**29.25 11.7 17.55**\n",
        "\n",
        "**48.99 19.6 29.39**\n",
        "\n",
        "**...**\n",
        "\n",
        "\n",
        "products_list = [[29.25, 48.99, 99.98, 124.65, 214.30, 543.90, 799.85]]\n"
      ]
    },
    {
      "cell_type": "code",
      "metadata": {
        "id": "ifNX2M7LXm7f"
      },
      "source": [
        "products_list = [29.25, 48.99, 99.98, 124.65, 214.30, 543.90, 799.85]\n",
        "new = []\n",
        "skidka = []\n",
        "def pokupka(x):\n",
        "    y = x * 0.4\n",
        "    y = round(y,2)\n",
        "    return y\n",
        "def price(x):\n",
        "    z = x * 0.6\n",
        "    z = round(z,2)\n",
        "    return z\n",
        "new = list(map(pokupka,products_list))\n",
        "skidka = list(map(price,products_list))\n",
        "print(\"Discount table:\")\n",
        "def f(x):\n",
        "    print(products_list[x],new[x],skidka[x])\n",
        "    print(\"\")\n",
        "back = list(range(len(products_list)))\n",
        "list(filter(lambda x: x is not None, map(f,back)))"
      ],
      "execution_count": 107,
      "outputs": [
        {
          "output_type": "stream",
          "name": "stdout",
          "text": [
            "Discount table:\n29.25 11.7 17.55\n\n48.99 19.6 29.39\n\n99.98 39.99 59.99\n\n124.65 49.86 74.79\n\n214.3 85.72 128.58\n\n543.9 217.56 326.34\n\n799.85 319.94 479.91\n\n"
          ]
        },
        {
          "output_type": "execute_result",
          "data": {
            "text/plain": [
              "[]"
            ]
          },
          "metadata": {},
          "execution_count": 107
        }
      ]
    },
    {
      "source": [
        "### **Завдання 2 (2 бали)**\n",
        "\n",
        "Зазвичай рік має 365 днів. Однак у високосні роки додається ще один день - 29 лютого. Правила визначення високосного року такі:\n",
        "\n",
        "- Будь-який рік, що ділиться на 400 - високосний.\n",
        "\n",
        "- З тих років, що залишились, будь-який рік, що ділиться на 100 - **не** високосний.\n",
        "\n",
        "- З тих років, що залишились, будь-який рік, що ділиться на 4 - високосний.\n",
        "\n",
        "- Усі інші роки, що залишились - **не** високосні.\n",
        "\n",
        "1) Створіть функцію, в якій за допомогою вбудованих функцій вищих порядків будуть визначатися високосні роки серед перелічених років у списку years. Створена функція має повертати список високосних років.\n",
        "\n",
        "2) Створіть функцію вищих порядків, яка прийматиме на вхід попередню функцію та визначатиме кількість днів у місяці. Також функція повинна приймати на вхід ще 2 параметри: ціле число від 1 до 12 (місяць) та рік, як ціле чотирицифрове число. Ці значення корисувач має вводити з клавіатури. Перевірку введених даних слід виконувати поза межами функцій."
      ],
      "cell_type": "markdown",
      "metadata": {}
    },
    {
      "cell_type": "code",
      "execution_count": 123,
      "metadata": {
        "tags": []
      },
      "outputs": [
        {
          "output_type": "stream",
          "name": "stdout",
          "text": [
            "Список високосних років: \n",
            "[1920, 1924, 1928, 1932, 1936, 1940, 1944, 1948, 1952, 1956, 1960, 1964, 1968, 1972, 1976, 1980, 1984, 1988, 1992, 1996, 2000, 2004, 2008, 2012, 2016, 2020]\n",
            "Днів у цьому місяці: 31\n"
          ]
        }
      ],
      "source": [
        "import numpy as np\n",
        "\n",
        "def visgod(years):\n",
        "\tfor el in years:\n",
        "\t\tif el%4 == 0:\n",
        "\t\t\tyears_1.append(el)\n",
        "            \n",
        "def month():\n",
        "    months = input(\"Введіть номер місяця (1-12):  \")\n",
        "    while type(months) != int:\n",
        "        try:\n",
        "            if (int(months)>12 or int(months) < 1):\n",
        "                months = \"a\"\n",
        "            months = int(months)\n",
        "        except:\n",
        "            months = input(\"Введіть номер місяця (1-12):  \")\n",
        "    return int(months)\n",
        "\n",
        "def year():\n",
        "    year = input(\"Введіть рік\")\n",
        "    while type(year) != int:\n",
        "        try:\n",
        "            if (int(year)>years[len(years)-1] or int(year) < years[0]):\n",
        "                year = \"a\"\n",
        "            year = int(year)\n",
        "        except:\n",
        "            year = input(f\"Введіть рік з 1920 по 2020:  \")\n",
        "    return int(year)\n",
        "\n",
        "def rahunok(months, year, years_1):\n",
        "    if year in years_1:\n",
        "        if months == 2:\n",
        "            print(\"Днів у цьому місяці: 29\")\n",
        "        elif (months % 2 == 0):\n",
        "            print(\"Днів у цьому місяці: 31\")\n",
        "        else:\n",
        "            print(\"Днів у цьому місяці: 30\")\n",
        "    else:\n",
        "        if (months % 2 == 0):\n",
        "            print(\"Днів у цьому місяці: 31\")\n",
        "        else:\n",
        "            print(\"Днів у цьому місяці: 30\")\n",
        "\n",
        "\n",
        "years_1 = []\n",
        "visgod(years)\n",
        "\n",
        "years = np.arange(1920, 2020+1, 1)\n",
        "years = list(years)\n",
        "\n",
        "print(\"Список високосних років: \")\n",
        "print(years_1)\n",
        "\n",
        "month()\n",
        "year()\n",
        "rahunok(months, year, years_1)\n"
      ]
    },
    {
      "cell_type": "code",
      "execution_count": null,
      "metadata": {},
      "outputs": [],
      "source": []
    }
  ]
}